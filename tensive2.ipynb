{
 "metadata": {
  "language_info": {
   "codemirror_mode": {
    "name": "ipython",
    "version": 3
   },
   "file_extension": ".py",
   "mimetype": "text/x-python",
   "name": "python",
   "nbconvert_exporter": "python",
   "pygments_lexer": "ipython3",
   "version": "3.8.5"
  },
  "orig_nbformat": 2,
  "kernelspec": {
   "name": "python38564bitvenvvenvc13600371d214a078d2dea4774d87bd5",
   "display_name": "Python 3.8.5 64-bit ('venv': venv)",
   "language": "python"
  },
  "metadata": {
   "interpreter": {
    "hash": "31f2aee4e71d21fbe5cf8b01ff0e069b9275f58929596ceb00d14d90e3e16cd6"
   }
  }
 },
 "nbformat": 4,
 "nbformat_minor": 2,
 "cells": [
  {
   "source": [
    "# Настройка TCP протокола для мессенджера"
   ],
   "cell_type": "markdown",
   "metadata": {}
  },
  {
   "source": [
    "- протокол для обмена данными через сеть Интернет\n",
    "отвечает за:\n",
    "- установку соединения\n",
    "- стабильность надежность передачи данных\n",
    "- http - \"надстройка\" над TCP\n",
    "- websocket - -- для реал-тайм взаимодействий"
   ],
   "cell_type": "markdown",
   "metadata": {}
  },
  {
   "source": [
    "http для передачи JSON-а \n",
    "JSON - джваскрипт обджект нотейшен, \"изолента интернета\"\n",
    "любой джсон конвертится в пит. словарь, но не всегда наоборот\n"
   ],
   "cell_type": "markdown",
   "metadata": {}
  },
  {
   "source": [
    "самая популярная конвенция PEP-8\n"
   ],
   "cell_type": "markdown",
   "metadata": {}
  },
  {
   "source": [
    "упорядоченный словарь, ват!\n"
   ],
   "cell_type": "markdown",
   "metadata": {}
  },
  {
   "cell_type": "code",
   "execution_count": 1,
   "metadata": {},
   "outputs": [
    {
     "output_type": "execute_result",
     "data": {
      "text/plain": [
       "mappingproxy({'__repr__': <slot wrapper '__repr__' of 'datetime.datetime' objects>,\n",
       "              '__hash__': <slot wrapper '__hash__' of 'datetime.datetime' objects>,\n",
       "              '__str__': <slot wrapper '__str__' of 'datetime.datetime' objects>,\n",
       "              '__getattribute__': <slot wrapper '__getattribute__' of 'datetime.datetime' objects>,\n",
       "              '__lt__': <slot wrapper '__lt__' of 'datetime.datetime' objects>,\n",
       "              '__le__': <slot wrapper '__le__' of 'datetime.datetime' objects>,\n",
       "              '__eq__': <slot wrapper '__eq__' of 'datetime.datetime' objects>,\n",
       "              '__ne__': <slot wrapper '__ne__' of 'datetime.datetime' objects>,\n",
       "              '__gt__': <slot wrapper '__gt__' of 'datetime.datetime' objects>,\n",
       "              '__ge__': <slot wrapper '__ge__' of 'datetime.datetime' objects>,\n",
       "              '__add__': <slot wrapper '__add__' of 'datetime.datetime' objects>,\n",
       "              '__radd__': <slot wrapper '__radd__' of 'datetime.datetime' objects>,\n",
       "              '__sub__': <slot wrapper '__sub__' of 'datetime.datetime' objects>,\n",
       "              '__rsub__': <slot wrapper '__rsub__' of 'datetime.datetime' objects>,\n",
       "              '__new__': <function datetime.__new__(*args, **kwargs)>,\n",
       "              'now': <method 'now' of 'datetime.datetime' objects>,\n",
       "              'utcnow': <method 'utcnow' of 'datetime.datetime' objects>,\n",
       "              'fromtimestamp': <method 'fromtimestamp' of 'datetime.datetime' objects>,\n",
       "              'utcfromtimestamp': <method 'utcfromtimestamp' of 'datetime.datetime' objects>,\n",
       "              'strptime': <method 'strptime' of 'datetime.datetime' objects>,\n",
       "              'combine': <method 'combine' of 'datetime.datetime' objects>,\n",
       "              'fromisoformat': <method 'fromisoformat' of 'datetime.datetime' objects>,\n",
       "              'date': <method 'date' of 'datetime.datetime' objects>,\n",
       "              'time': <method 'time' of 'datetime.datetime' objects>,\n",
       "              'timetz': <method 'timetz' of 'datetime.datetime' objects>,\n",
       "              'ctime': <method 'ctime' of 'datetime.datetime' objects>,\n",
       "              'timetuple': <method 'timetuple' of 'datetime.datetime' objects>,\n",
       "              'timestamp': <method 'timestamp' of 'datetime.datetime' objects>,\n",
       "              'utctimetuple': <method 'utctimetuple' of 'datetime.datetime' objects>,\n",
       "              'isoformat': <method 'isoformat' of 'datetime.datetime' objects>,\n",
       "              'utcoffset': <method 'utcoffset' of 'datetime.datetime' objects>,\n",
       "              'tzname': <method 'tzname' of 'datetime.datetime' objects>,\n",
       "              'dst': <method 'dst' of 'datetime.datetime' objects>,\n",
       "              'replace': <method 'replace' of 'datetime.datetime' objects>,\n",
       "              'astimezone': <method 'astimezone' of 'datetime.datetime' objects>,\n",
       "              '__reduce_ex__': <method '__reduce_ex__' of 'datetime.datetime' objects>,\n",
       "              '__reduce__': <method '__reduce__' of 'datetime.datetime' objects>,\n",
       "              'hour': <attribute 'hour' of 'datetime.datetime' objects>,\n",
       "              'minute': <attribute 'minute' of 'datetime.datetime' objects>,\n",
       "              'second': <attribute 'second' of 'datetime.datetime' objects>,\n",
       "              'microsecond': <attribute 'microsecond' of 'datetime.datetime' objects>,\n",
       "              'tzinfo': <attribute 'tzinfo' of 'datetime.datetime' objects>,\n",
       "              'fold': <attribute 'fold' of 'datetime.datetime' objects>,\n",
       "              '__doc__': 'datetime(year, month, day[, hour[, minute[, second[, microsecond[,tzinfo]]]]])\\n\\nThe year, month and day arguments are required. tzinfo may be None, or an\\ninstance of a tzinfo subclass. The remaining arguments may be ints.\\n',\n",
       "              'min': datetime.datetime(1, 1, 1, 0, 0),\n",
       "              'max': datetime.datetime(9999, 12, 31, 23, 59, 59, 999999),\n",
       "              'resolution': datetime.timedelta(microseconds=1)})"
      ]
     },
     "metadata": {},
     "execution_count": 1
    }
   ],
   "source": [
    "import datetime\n",
    "type(datetime.datetime.now()).__dict__"
   ]
  },
  {
   "cell_type": "code",
   "execution_count": 4,
   "metadata": {},
   "outputs": [
    {
     "output_type": "execute_result",
     "data": {
      "text/plain": [
       "'2021, 05, 07, 21'"
      ]
     },
     "metadata": {},
     "execution_count": 4
    }
   ],
   "source": [
    "datetime.datetime.now().strftime('%Y, %m, %d, %H')"
   ]
  },
  {
   "cell_type": "code",
   "execution_count": 5,
   "metadata": {},
   "outputs": [],
   "source": [
    "from server import db\n"
   ]
  },
  {
   "cell_type": "code",
   "execution_count": 6,
   "metadata": {},
   "outputs": [
    {
     "output_type": "execute_result",
     "data": {
      "text/plain": [
       "[]"
      ]
     },
     "metadata": {},
     "execution_count": 6
    }
   ],
   "source": [
    "db"
   ]
  },
  {
   "cell_type": "code",
   "execution_count": null,
   "metadata": {},
   "outputs": [],
   "source": []
  }
 ]
}
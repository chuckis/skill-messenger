{
 "metadata": {
  "language_info": {
   "codemirror_mode": {
    "name": "ipython",
    "version": 3
   },
   "file_extension": ".py",
   "mimetype": "text/x-python",
   "name": "python",
   "nbconvert_exporter": "python",
   "pygments_lexer": "ipython3",
   "version": "3.8.5"
  },
  "orig_nbformat": 2,
  "kernelspec": {
   "name": "python38564bitvenvvenvc13600371d214a078d2dea4774d87bd5",
   "display_name": "Python 3.8.5 64-bit ('venv': venv)",
   "language": "python"
  }
 },
 "nbformat": 4,
 "nbformat_minor": 2,
 "cells": [
  {
   "source": [
    "# Интенсив 1. Никита Левашов. Мессенджер на Пайтон за 3 дня.\n",
    "О Pypi. +300 тыс. проэктов, собраны в одном месте.\n",
    "\n",
    "- Интерпретируемый. \n",
    "- У питона высокая скорость написания кода.\n",
    "- Синтаксис прост как простой текст, но с отступами.\n",
    "\n"
   ],
   "cell_type": "markdown",
   "metadata": {}
  },
  {
   "cell_type": "code",
   "execution_count": 13,
   "metadata": {},
   "outputs": [],
   "source": [
    "import time"
   ]
  },
  {
   "cell_type": "code",
   "execution_count": 23,
   "metadata": {},
   "outputs": [],
   "source": [
    "db = []"
   ]
  },
  {
   "source": [
    "- 1 Отправка сообщ.\n",
    "- 2 Подгрузка сообщ."
   ],
   "cell_type": "markdown",
   "metadata": {}
  },
  {
   "cell_type": "code",
   "execution_count": 15,
   "metadata": {},
   "outputs": [],
   "source": [
    "def send_message(name: str, text: str):\n",
    "    db.append(\n",
    "       {\n",
    "    'name': name,\n",
    "    'text': text,\n",
    "    'time': time.time() \n",
    "        })"
   ]
  },
  {
   "source": [
    "В питоне ф-ия может ничего не возвращать"
   ],
   "cell_type": "markdown",
   "metadata": {}
  },
  {
   "cell_type": "code",
   "execution_count": 24,
   "metadata": {},
   "outputs": [],
   "source": [
    "send_message('Jack', 'Hi Mary!')\n",
    "send_message('Mary', 'Hi Jack What\\'s up!')"
   ]
  },
  {
   "cell_type": "code",
   "execution_count": 25,
   "metadata": {},
   "outputs": [
    {
     "output_type": "stream",
     "name": "stdout",
     "text": [
      "[{'name': 'Jack', 'text': 'Hi Mary!', 'time': 1620331046.6977935}, {'name': 'Mary', 'text': \"Hi Jack What's up!\", 'time': 1620331046.6978838}]\n"
     ]
    }
   ],
   "source": [
    "print(db)"
   ]
  },
  {
   "source": [
    "Ф-ия подгрузки сообщ., работающая в фоне"
   ],
   "cell_type": "markdown",
   "metadata": {}
  },
  {
   "cell_type": "code",
   "execution_count": 28,
   "metadata": {},
   "outputs": [],
   "source": [
    "def get_messages(after):\n",
    "    filtered_messages = []\n",
    "    \n",
    "    for message in db:\n",
    "        if message['time'] > after:\n",
    "            filtered_messages.append(message)\n",
    "\n",
    "    return filtered_messages[:50]"
   ]
  },
  {
   "cell_type": "code",
   "execution_count": 29,
   "metadata": {},
   "outputs": [
    {
     "output_type": "execute_result",
     "data": {
      "text/plain": [
       "[{'name': 'Jack', 'text': 'Hi Mary!', 'time': 1620331046.6977935},\n",
       " {'name': 'Mary', 'text': \"Hi Jack What's up!\", 'time': 1620331046.6978838}]"
      ]
     },
     "metadata": {},
     "execution_count": 29
    }
   ],
   "source": [
    "get_messages(0)"
   ]
  },
  {
   "cell_type": "code",
   "execution_count": null,
   "metadata": {},
   "outputs": [],
   "source": []
  }
 ]
}